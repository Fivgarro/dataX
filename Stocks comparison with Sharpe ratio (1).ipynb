{
 "cells": [
  {
   "cell_type": "markdown",
   "metadata": {},
   "source": [
    "## Introduction"
   ]
  },
  {
   "cell_type": "markdown",
   "metadata": {},
   "source": [
    "This project will use Sharpe ratio to compare the two stocks included in this project - Vingroup (VIC) & Vinamilk (VNM), which will have its data retrieved from Feb 28th to Aug 31st, 2022 (Ho Chi Minh Stock Exchange). Assuming the risk-free rate as Vietnam government bond, it is recorded with an annual rate of 3.6% in Sep 31st, 2022 (Investing.com)."
   ]
  },
  {
   "cell_type": "markdown",
   "metadata": {},
   "source": [
    "a. Retrieve data and take a glance at data info and metadata"
   ]
  },
  {
   "cell_type": "markdown",
   "metadata": {},
   "source": [
    "Let us take a look the data to find out the number of observations, the data type and datetime which must be compatible with later calculation."
   ]
  },
  {
   "cell_type": "code",
   "execution_count": 12,
   "metadata": {
    "scrolled": true
   },
   "outputs": [
    {
     "name": "stdout",
     "output_type": "stream",
     "text": [
      "Stocks\n",
      "\n",
      "<class 'pandas.core.frame.DataFrame'>\n",
      "DatetimeIndex: 130 entries, 2022-02-28 to 2022-08-31\n",
      "Data columns (total 2 columns):\n",
      " #   Column  Non-Null Count  Dtype \n",
      "---  ------  --------------  ----- \n",
      " 0   VIC     130 non-null    object\n",
      " 1   VNM     130 non-null    object\n",
      "dtypes: object(2)\n",
      "memory usage: 3.0+ KB\n",
      "               VIC     VNM\n",
      "Date                      \n",
      "2022-02-28  77.00   75.77 \n",
      "2022-03-01  79.20   76.55 \n",
      "2022-03-02  78.90   75.87 \n",
      "2022-03-03  79.00   75.77 \n",
      "2022-03-04  79.00   75.29 \n"
     ]
    }
   ],
   "source": [
    "import pandas as pd\n",
    "import numpy as np\n",
    "import matplotlib.pyplot as plt\n",
    "\n",
    "# Settings to produce nice plots in a Jupyter notebook\n",
    "plt.style.use('fivethirtyeight')\n",
    "%matplotlib inline\n",
    "\n",
    "\n",
    "# Reading in the data\n",
    "stocks_data = pd.read_csv(r\"C:\\Users\\Admin\\OneDrive\\Documents\\Data Course\\stocks.csv\", \n",
    "                       parse_dates=['Date'], \n",
    "                       index_col='Date',\n",
    "                       encoding=\"latin1\").dropna()\n",
    "\n",
    "\n",
    "# Display summary for stock_data\n",
    "print('Stocks\\n')\n",
    "stocks_data.info()\n",
    "print(stocks_data.head())"
   ]
  },
  {
   "cell_type": "markdown",
   "metadata": {},
   "source": [
    "b. Data type change, summarize and visualize of data"
   ]
  },
  {
   "cell_type": "markdown",
   "metadata": {},
   "source": [
    "It is notable that the data type is object, which is not suitable for calculation. Hence, it must be changed from 'object' to 'float'. Before we compare an investment in either Vingroup or Vinamilk with the government bond in Vietnam, let us visualize the data, so we better grasp the trends."
   ]
  },
  {
   "cell_type": "code",
   "execution_count": 13,
   "metadata": {
    "scrolled": true
   },
   "outputs": [
    {
     "data": {
      "text/html": [
       "<div>\n",
       "<style scoped>\n",
       "    .dataframe tbody tr th:only-of-type {\n",
       "        vertical-align: middle;\n",
       "    }\n",
       "\n",
       "    .dataframe tbody tr th {\n",
       "        vertical-align: top;\n",
       "    }\n",
       "\n",
       "    .dataframe thead th {\n",
       "        text-align: right;\n",
       "    }\n",
       "</style>\n",
       "<table border=\"1\" class=\"dataframe\">\n",
       "  <thead>\n",
       "    <tr style=\"text-align: right;\">\n",
       "      <th></th>\n",
       "      <th>VIC</th>\n",
       "      <th>VNM</th>\n",
       "    </tr>\n",
       "  </thead>\n",
       "  <tbody>\n",
       "    <tr>\n",
       "      <th>count</th>\n",
       "      <td>130.000000</td>\n",
       "      <td>130.000000</td>\n",
       "    </tr>\n",
       "    <tr>\n",
       "      <th>mean</th>\n",
       "      <td>74.683846</td>\n",
       "      <td>71.743154</td>\n",
       "    </tr>\n",
       "    <tr>\n",
       "      <th>std</th>\n",
       "      <td>5.857279</td>\n",
       "      <td>3.523268</td>\n",
       "    </tr>\n",
       "    <tr>\n",
       "      <th>min</th>\n",
       "      <td>63.600000</td>\n",
       "      <td>62.340000</td>\n",
       "    </tr>\n",
       "    <tr>\n",
       "      <th>25%</th>\n",
       "      <td>68.575000</td>\n",
       "      <td>69.347500</td>\n",
       "    </tr>\n",
       "    <tr>\n",
       "      <th>50%</th>\n",
       "      <td>77.700000</td>\n",
       "      <td>72.540000</td>\n",
       "    </tr>\n",
       "    <tr>\n",
       "      <th>75%</th>\n",
       "      <td>79.000000</td>\n",
       "      <td>73.815000</td>\n",
       "    </tr>\n",
       "    <tr>\n",
       "      <th>max</th>\n",
       "      <td>82.700000</td>\n",
       "      <td>79.450000</td>\n",
       "    </tr>\n",
       "  </tbody>\n",
       "</table>\n",
       "</div>"
      ],
      "text/plain": [
       "              VIC         VNM\n",
       "count  130.000000  130.000000\n",
       "mean    74.683846   71.743154\n",
       "std      5.857279    3.523268\n",
       "min     63.600000   62.340000\n",
       "25%     68.575000   69.347500\n",
       "50%     77.700000   72.540000\n",
       "75%     79.000000   73.815000\n",
       "max     82.700000   79.450000"
      ]
     },
     "execution_count": 13,
     "metadata": {},
     "output_type": "execute_result"
    },
    {
     "data": {
      "image/png": "[encoded data removed]",
      "text/plain": [
       "<Figure size 432x288 with 2 Axes>"
      ]
     },
     "metadata": {
      "needs_background": "light"
     },
     "output_type": "display_data"
    }
   ],
   "source": [
    "# change data type \n",
    "stock_data = stocks_data.loc[:,['VIC','VNM']].astype('float64')\n",
    "\n",
    "# visualize the data\n",
    "stock_data.plot(title='Stock Data', subplots=True);\n",
    "\n",
    "# summarize the data\n",
    "stock_data.describe()"
   ]
  },
  {
   "cell_type": "markdown",
   "metadata": {},
   "source": [
    "c. The inputs for Sharpe ratio, part 1: Excess returns"
   ]
  },
  {
   "cell_type": "markdown",
   "metadata": {},
   "source": [
    "The Sharpe Ratio uses the difference in returns between the two investment opportunities under consideration. However, our data show the historical value of each investment, not the return. To calculate the return, we need to calculate the percentage change in value from one day to the next. \n",
    "\n",
    "Next, we need to calculate the relative performance of stocks vs. the government bond. This is calculated as the difference in returns between stock_returns and sp_returns for each day. Since the bond rate is annual, it will be divided by the number of trading days (5 days, 52 weeks, minus a few holidays): 252 days."
   ]
  },
  {
   "cell_type": "code",
   "execution_count": 21,
   "metadata": {},
   "outputs": [],
   "source": [
    "# calculate daily stock_data returns\n",
    "stock_returns = stock_data.pct_change()\n",
    "\n",
    "# calculate the difference in daily returns\n",
    "excess_returns = stock_returns - (0.036/252)"
   ]
  },
  {
   "cell_type": "markdown",
   "metadata": {},
   "source": [
    "d. The inputs for Sharpe ratio, part 2: Average of excess returns"
   ]
  },
  {
   "cell_type": "markdown",
   "metadata": {},
   "source": [
    "Now this part will demonstrate the average of the excess_returns. This tells us how much more or less the investment yields per day compared to the benchmark."
   ]
  },
  {
   "cell_type": "code",
   "execution_count": null,
   "metadata": {},
   "outputs": [],
   "source": [
    "# calculate the mean of excess_returns \n",
    "avg_excess_return = excess_returns.mean()\n",
    "\n",
    "# plot avg_excess_returns\n",
    "avg_excess_return.plot.bar(title='Mean of the Return Difference');"
   ]
  },
  {
   "cell_type": "markdown",
   "metadata": {},
   "source": [
    "e. The inputs for Sharpe ratio, part 3: Standard deviation of the returns difference"
   ]
  },
  {
   "cell_type": "markdown",
   "metadata": {},
   "source": [
    "Next, this part calculate the standard deviation of the excess_returns. This shows the amount of risk an investment in the stocks implies as compared to an investment in the Vietnam government bond."
   ]
  },
  {
   "cell_type": "code",
   "execution_count": 17,
   "metadata": {},
   "outputs": [
    {
     "data": {
      "image/png": "[encoded data removed]",
      "text/plain": [
       "<Figure size 432x288 with 1 Axes>"
      ]
     },
     "metadata": {
      "needs_background": "light"
     },
     "output_type": "display_data"
    }
   ],
   "source": [
    "# calculate the standard deviations\n",
    "sd_excess_return = excess_returns.std()\n",
    "\n",
    "# plot the standard deviations\n",
    "sd_excess_return.plot.bar(title='Standard Deviation of the Returns Difference');"
   ]
  },
  {
   "cell_type": "markdown",
   "metadata": {},
   "source": [
    "f. Performance valuation"
   ]
  },
  {
   "cell_type": "markdown",
   "metadata": {},
   "source": [
    "Now we just need to compute the ratio of avg_excess_returns and sd_excess_returns. The result is now finally the Sharpe ratio and indicates how much more (or less) return the investment opportunity under consideration yields per unit of risk.\n",
    "\n",
    "The Sharpe Ratio is often annualized by multiplying it by the square root of the number of periods. We have used daily data as input, so we'll use the square root of the number of trading days."
   ]
  },
  {
   "cell_type": "code",
   "execution_count": 20,
   "metadata": {},
   "outputs": [
    {
     "data": {
      "image/png": "[encoded data removed]",
      "text/plain": [
       "<Figure size 432x288 with 1 Axes>"
      ]
     },
     "metadata": {
      "needs_background": "light"
     },
     "output_type": "display_data"
    }
   ],
   "source": [
    "# calculate the daily sharpe ratio\n",
    "daily_sharpe_ratio = avg_excess_return.div(sd_excess_return)\n",
    "\n",
    "# annualize the sharpe ratio\n",
    "annual_factor = np.sqrt(252)\n",
    "annual_sharpe_ratio = daily_sharpe_ratio.mul(annual_factor)\n",
    "\n",
    "# plot the annualized sharpe ratio \n",
    "annual_sharpe_ratio.plot.bar(title='Annualized Sharpe Ratio: Stocks vs Government bond');"
   ]
  },
  {
   "cell_type": "markdown",
   "metadata": {},
   "source": [
    "g. Conclusion"
   ]
  },
  {
   "cell_type": "markdown",
   "metadata": {},
   "source": [
    "Given the two Sharpe ratios, which investment should we go for? Clearly that’s Vinamilk.\n",
    "\n",
    "If you invest in these two stocks, the return of VIC will yield negative cashflow which seems even worse than buying the 1-year Vietnam government bond in terms of interest value, while VNM will remain the same (around 0% return) but that is still considered a loss, given the time value of money! On the risk side, choosing VNM over VIC (as measured by the standard deviation) will add around 0.5% volatility to your portfolio"
   ]
  }
 ],
 "metadata": {
  "anaconda-cloud": {},
  "kernelspec": {
   "display_name": "Python 3",
   "language": "python",
   "name": "python3"
  },
  "language_info": {
   "codemirror_mode": {
    "name": "ipython",
    "version": 3
   },
   "file_extension": ".py",
   "mimetype": "text/x-python",
   "name": "python",
   "nbconvert_exporter": "python",
   "pygments_lexer": "ipython3",
   "version": "3.8.5"
  }
 },
 "nbformat": 4,
 "nbformat_minor": 1
}
